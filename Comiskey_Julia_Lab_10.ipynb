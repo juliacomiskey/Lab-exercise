{
 "cells": [
  {
   "cell_type": "markdown",
   "id": "8d853c94",
   "metadata": {},
   "source": [
    "# OOP Continued"
   ]
  },
  {
   "cell_type": "markdown",
   "id": "3beeb8bd",
   "metadata": {},
   "source": [
    "_exercise 1_"
   ]
  },
  {
   "cell_type": "code",
   "execution_count": 1,
   "id": "e5d09e83",
   "metadata": {},
   "outputs": [],
   "source": [
    "class Dorms:\n",
    "    def __init__(self,number,building,roommates=4): #roommate is an \n",
    "        #optional parameter that can be override when a new number is needed\n",
    "        self.number = number\n",
    "        self.building = building\n",
    "        self.roommates = roommates\n",
    "    def inspection(self):\n",
    "        print(\"This room does not pass inspection!\")        \n",
    "        \n",
    "    #any candles?, any prohibited substances?"
   ]
  },
  {
   "cell_type": "code",
   "execution_count": 4,
   "id": "3b4addac",
   "metadata": {},
   "outputs": [
    {
     "name": "stdout",
     "output_type": "stream",
     "text": [
      "M\n",
      "L\n",
      "XXL\n"
     ]
    }
   ],
   "source": [
    "class Clothing: #Parent class\n",
    "    def __init__(self,color,size):\n",
    "        self.color= color\n",
    "        self.size =size\n",
    "        \n",
    "    def check_size(self):\n",
    "        print(self.size)\n",
    "\n",
    "class Shirt(Clothing): #child class\n",
    "    pass #you can use pass a placeholder for future code\n",
    "\n",
    "class Dress(Clothing):\n",
    "    pass\n",
    "\n",
    "item1=Clothing(\"blue\",\"M\")\n",
    "item2= Shirt(\"Yellow\",\"L\")\n",
    "item3= Dress(\"Polka dot\", \"XXL\")\n",
    "               \n",
    "item1.check_size()\n",
    "item2.check_size()\n",
    "item3.check_size()"
   ]
  },
  {
   "cell_type": "code",
   "execution_count": 8,
   "id": "160ea91a",
   "metadata": {},
   "outputs": [
    {
     "name": "stdout",
     "output_type": "stream",
     "text": [
      "The sleves on the shirt are Long\n",
      "This dress has a  A-line shape.\n"
     ]
    }
   ],
   "source": [
    "class Clothing: #Parent class\n",
    "    def __init__(self,color,size):\n",
    "        self.color= color\n",
    "        self.size =size\n",
    "        \n",
    "    def check_size(self):\n",
    "        print(self.size)\n",
    "\n",
    "class Shirt(Clothing): #child class\n",
    "    def __init__(self,color,size,sleeves):\n",
    "        super().__init__(color,size)\n",
    "        \n",
    "        self.sleeves = sleeves\n",
    "        \n",
    "    def sleeve_length(self):\n",
    "        print(\"The sleves on the shirt are\", self.sleeves)\n",
    "class Dress(Clothing):\n",
    "    def __init__(self,color,size,shape):\n",
    "        super().__init__(color,size)\n",
    "        self.shape = shape\n",
    "    \n",
    "    def dress_shape(self):\n",
    "        print(\"This dress has a \",self.shape,\"shape.\")\n",
    "\n",
    "item1=Clothing(\"blue\",\"M\")\n",
    "item2= Shirt(\"Yellow\",\"L\",\"Long\")\n",
    "item3= Dress(\"Polka dot\", \"XXL\",\"A-line\")\n",
    "               \n",
    "item2.sleeve_length()\n",
    "item3.dress_shape()"
   ]
  },
  {
   "cell_type": "code",
   "execution_count": 9,
   "id": "51f57abe",
   "metadata": {},
   "outputs": [
    {
     "name": "stdout",
     "output_type": "stream",
     "text": [
      "Issac Monty\n",
      "Jessica Martinez\n"
     ]
    }
   ],
   "source": [
    "class Employee:\n",
    "    def __init__(self,first,last,salary):\n",
    "        self.first = first\n",
    "        self.last= last\n",
    "        self.salary=salary\n",
    "        \n",
    "    def fullname(self):\n",
    "        print(f\"{self.first} {self.last}\")\n",
    "        \n",
    "class Programmer(Employee):\n",
    "    pass\n",
    "\n",
    "EID001 = Employee(\"Issac\",\"Monty\", 23000)\n",
    "EID002= Programmer(\"Jessica\",\"Martinez\", 34000)\n",
    "EID003=Employee(\"Sarah\",\"Parker\",23400)\n",
    "\n",
    "EID001.fullname()\n",
    "EID002.fullname()"
   ]
  },
  {
   "cell_type": "markdown",
   "id": "25e8719d",
   "metadata": {},
   "source": [
    "_exercise 2_"
   ]
  },
  {
   "cell_type": "code",
   "execution_count": 12,
   "id": "736c8e48",
   "metadata": {},
   "outputs": [
    {
     "ename": "AttributeError",
     "evalue": "'Employee' object has no attribute 'cityfrom'",
     "output_type": "error",
     "traceback": [
      "\u001b[1;31m---------------------------------------------------------------------------\u001b[0m",
      "\u001b[1;31mAttributeError\u001b[0m                            Traceback (most recent call last)",
      "Input \u001b[1;32mIn [12]\u001b[0m, in \u001b[0;36m<cell line: 25>\u001b[1;34m()\u001b[0m\n\u001b[0;32m     22\u001b[0m EID002\u001b[38;5;241m=\u001b[39m Programmer(\u001b[38;5;124m\"\u001b[39m\u001b[38;5;124mJessica\u001b[39m\u001b[38;5;124m\"\u001b[39m,\u001b[38;5;124m\"\u001b[39m\u001b[38;5;124mMartinez\u001b[39m\u001b[38;5;124m\"\u001b[39m, \u001b[38;5;241m34000\u001b[39m)\n\u001b[0;32m     23\u001b[0m EID003\u001b[38;5;241m=\u001b[39mEmployee(\u001b[38;5;124m\"\u001b[39m\u001b[38;5;124mSarah\u001b[39m\u001b[38;5;124m\"\u001b[39m,\u001b[38;5;124m\"\u001b[39m\u001b[38;5;124mParker\u001b[39m\u001b[38;5;124m\"\u001b[39m,\u001b[38;5;241m23400\u001b[39m)\n\u001b[1;32m---> 25\u001b[0m \u001b[43mEID001\u001b[49m\u001b[38;5;241;43m.\u001b[39;49m\u001b[43mcityfrom\u001b[49m()\n\u001b[0;32m     26\u001b[0m EID002\u001b[38;5;241m.\u001b[39mfullname()\n",
      "\u001b[1;31mAttributeError\u001b[0m: 'Employee' object has no attribute 'cityfrom'"
     ]
    }
   ],
   "source": [
    "class Employee:\n",
    "    def __init__(self,first,last,salary):\n",
    "        self.first = first\n",
    "        self.last= last\n",
    "        self.salary=salary\n",
    "        \n",
    "    def fullname(self):\n",
    "        print(f\"{self.first} {self.last}\")\n",
    "        \n",
    "class Programmer(Employee):\n",
    "    pass\n",
    "\n",
    "class Coder(Employee):\n",
    "    def __init__(self,first,last,city):\n",
    "        super().__init__(first,last)\n",
    "        self.city = city\n",
    "        \n",
    "    def cityfrom(self):\n",
    "        print(f\"{self.first} is from {self.city}\")\n",
    "\n",
    "EID001 = Employee(\"Issac\",\"Monty\", \"Patchogue\")\n",
    "EID002= Programmer(\"Jessica\",\"Martinez\", 34000)\n",
    "EID003=Employee(\"Sarah\",\"Parker\",23400)\n",
    "\n",
    "EID001.cityfrom()\n",
    "EID002.fullname()"
   ]
  },
  {
   "cell_type": "markdown",
   "id": "e2541dfd",
   "metadata": {},
   "source": [
    "# Post Lab"
   ]
  },
  {
   "cell_type": "markdown",
   "id": "e3206288",
   "metadata": {},
   "source": [
    "_exercise 1_"
   ]
  },
  {
   "cell_type": "code",
   "execution_count": 18,
   "id": "4ee0628c",
   "metadata": {},
   "outputs": [
    {
     "name": "stdout",
     "output_type": "stream",
     "text": [
      "J Comis @binghamton.edu\n",
      "None\n",
      "J Elker @binghamton.edu\n",
      "None\n",
      "J Smith @binghamton.edu\n",
      "None\n"
     ]
    }
   ],
   "source": [
    "class BinghamtonID:\n",
    "    def __init__(self,first_name,last_name):\n",
    "        self.first_name = first_name\n",
    "        self.last_name = last_name\n",
    "        \n",
    "    def email(self):\n",
    "        print(self.first_name[0],self.last_name[0:5],\"@binghamton.edu\")\n",
    "student1 = BinghamtonID(\"Julia\",\"Comiskey\")\n",
    "student2= BinghamtonID(\"James\",\"Elkerton\")\n",
    "student3=BinghamtonID(\"Jane\",\"Smith\")\n",
    "print(student1.email())\n",
    "print(student2.email())\n",
    "print(student3.email())"
   ]
  },
  {
   "cell_type": "markdown",
   "id": "42ae10be",
   "metadata": {},
   "source": [
    "_exercise 2_"
   ]
  },
  {
   "cell_type": "code",
   "execution_count": 23,
   "id": "ed049a3b",
   "metadata": {},
   "outputs": [
    {
     "name": "stdout",
     "output_type": "stream",
     "text": [
      "2014\n",
      "None\n",
      "My favorite snack is kibble\n",
      "None\n",
      "Meow I REALLY dislike other cats\n",
      "None\n"
     ]
    }
   ],
   "source": [
    "class Animal:\n",
    "    def __init__(self,weight,age,name):\n",
    "        self.weight = weight\n",
    "        self.age = age\n",
    "        self.name = name\n",
    "    def intro(self):\n",
    "        print(\"Hi my name is\",self.name,\" I am\",self.age,\" years old. I weight\",self.weight)\n",
    "    def yearborn(self):\n",
    "        print(int(2022)-int(self.age))\n",
    "\n",
    "class Dog(Animal):\n",
    "    def __init__(self,weight,age,name,color,food):\n",
    "        super().__init__(weight,age,name)\n",
    "        self.color=color\n",
    "        self.food=food\n",
    "    \n",
    "    def favfood(self):\n",
    "        print(\"My favorite snack is\",self.food)\n",
    "    def furcolor(self):\n",
    "        print(\"My fur color is\",self.color)\n",
    "\n",
    "class Cat(Animal):\n",
    "    def __init__(self,weight,age,name,hate,house):\n",
    "        super().__init__(weight,age,name)\n",
    "        self.hate = hate\n",
    "        self.house = house\n",
    "    def hateful(self):\n",
    "        print(\"Meow I REALLY dislike\", self.hate)\n",
    "    def home(self):\n",
    "        print(\"I prefer to live in a mansion but instead I live in a \",self.house)\n",
    "        \n",
    "\n",
    "a1=Animal(\"15\",\"8\", \"tim\")\n",
    "a2=Dog(\"68\",\"2\",\"Spot\",\"brown\",\"kibble\")\n",
    "a3=Cat(\"12\",\"5\",\"Lola\",\"other cats\",\"litter box\")\n",
    "\n",
    "print(a1.yearborn())\n",
    "print(a2.favfood())\n",
    "print(a3.hateful())"
   ]
  },
  {
   "cell_type": "markdown",
   "id": "958b13e6",
   "metadata": {},
   "source": [
    "_exercise 3_"
   ]
  },
  {
   "cell_type": "code",
   "execution_count": 35,
   "id": "e82cebb7",
   "metadata": {},
   "outputs": [
    {
     "name": "stdout",
     "output_type": "stream",
     "text": [
      "You're doing great in math!\n",
      "You need to get some tutoring in science!\n",
      "You're doing great in art!\n",
      "You need to get some tutoring in history!\n",
      "None\n",
      "300\n",
      "None\n",
      "You are in Harpur college\n",
      "None\n",
      "[]\n"
     ]
    }
   ],
   "source": [
    "class Student:\n",
    "    def __init__(self, first_name, grade_dict,hours,major):\n",
    "        self.name = first_name\n",
    "        self.grades = grade_dict\n",
    "        self.hours =hours\n",
    "        self.major = major\n",
    "\n",
    "    def check_grade(self):\n",
    "        for i in self.grades:\n",
    "            if self.grades[i] < 70:\n",
    "                print(f\"You need to get some tutoring in {i}!\")\n",
    "            else:\n",
    "                print(f\"You're doing great in {i}!\")\n",
    "    def milesfrombing(self):\n",
    "        print(int(self.hours)*int(60))\n",
    "    def courses(self):\n",
    "        if self.major == \"economics\":\n",
    "            print(\"You are in Harpur college\")\n",
    "        elif self.major == \"engineering\":\n",
    "            print(\"You are in Watson\")\n",
    "        elif self.major == \"busisness\":\n",
    "            print(\"You are in SOM\")\n",
    "        elif self.major == \"nursing\":\n",
    "            print(\"You are in Decker\")\n",
    "        else:\n",
    "            print(\"Not enough information in our database\")\n",
    "\n",
    "class Art(Student):\n",
    "    def __init__(self,first_name, grade_dict,hours,major,artgrade):\n",
    "        super().__init__( first_name, grade_dict,hours,major)\n",
    "        self.artgrade=artgrade\n",
    "    \n",
    "    def good_at_art(self, artlist):\n",
    "        if self.grades[\"art\"]>=90:\n",
    "            artlist.append(self.name)\n",
    "        return artlist\n",
    "artlist = []\n",
    "        \n",
    "\n",
    "Student001 = Student(\"Abdul\", {\"math\":85, \"science\": 60, \"art\": 88, \"history\": 34},5,\"economics\")\n",
    "Student0011 = Art(\"Abdul\", {\"math\":85, \"science\": 60, \"art\": 88, \"history\": 34},5,\"economics\",\"88\")\n",
    "\n",
    "print(Student001.check_grade())\n",
    "print(Student001.milesfrombing())\n",
    "print(Student001.courses())\n",
    "print(Student0011.good_at_art(artlist))"
   ]
  },
  {
   "cell_type": "code",
   "execution_count": 53,
   "id": "bc3a3b88",
   "metadata": {},
   "outputs": [
    {
     "name": "stdout",
     "output_type": "stream",
     "text": [
      "34\n",
      "['Water']\n",
      "59\n",
      "None\n",
      "You have defeated the fighter!\n",
      "None\n",
      "60\n",
      "None\n",
      "Cannot add wizard health, you are already maxxed out\n",
      "None\n"
     ]
    }
   ],
   "source": [
    "class Player:\n",
    "    def __init__(self, name, hp):\n",
    "        self.name = name\n",
    "        self.hp = hp\n",
    "        self.damage = 0 \n",
    "        self.inventory = []\n",
    "\n",
    "    def calculate_health(self):\n",
    "        return self.hp - self.damage \n",
    "    \n",
    "    def add_items(self, item):\n",
    "      self.item = item\n",
    "      self.inventory.append(self.item) \n",
    "        \n",
    "class Fighter(Player):\n",
    "    def __init__(self,name,hp,strength,damage):\n",
    "        super().__init__(name,hp)\n",
    "        self.strength = strength\n",
    "        self.damage = damage\n",
    "    def fight(self):\n",
    "        versus = 36\n",
    "        if self.strength > 36:\n",
    "            print(\"You have defeated the fighter!\")\n",
    "        else:\n",
    "            print(\"You were defeated by the fighter\")\n",
    "    def health(self):\n",
    "        fighter_health=84\n",
    "        print(int(fighter_health)-int(self.damage))\n",
    "        \n",
    "class Wizard(Player):\n",
    "    def __init__(self,name,hp,starter_health,healed_health):\n",
    "        super().__init__(name,hp)\n",
    "        self.starter_health = starter_health\n",
    "        self.healed_health = healed_health\n",
    "    def add_health(self):\n",
    "        wizard=25\n",
    "        print(int(wizard)+int(self.starter_health))\n",
    "    def max_health(self):\n",
    "        if self.healed_health>75:\n",
    "            print(\"Cannot add wizard health, you are already maxxed out\")\n",
    "        else:\n",
    "            print(\"The wizard is able to aid you.\")\n",
    "    \n",
    "      \n",
    "\n",
    "p1 = Player(\"Sallow\", 34)\n",
    "print(p1.calculate_health())\n",
    "p1.add_items(\"Water\")\n",
    "print(p1.inventory)\n",
    "p2 = Fighter(\"Sallow\",34,85,25)\n",
    "print(p2.health())\n",
    "print(p2.fight())\n",
    "p3 = Wizard(\"Tim\",58,35,85)\n",
    "print(p3.add_health())\n",
    "print(p3.max_health())"
   ]
  },
  {
   "cell_type": "code",
   "execution_count": null,
   "id": "c19fe5f1",
   "metadata": {},
   "outputs": [],
   "source": []
  }
 ],
 "metadata": {
  "kernelspec": {
   "display_name": "Python 3 (ipykernel)",
   "language": "python",
   "name": "python3"
  },
  "language_info": {
   "codemirror_mode": {
    "name": "ipython",
    "version": 3
   },
   "file_extension": ".py",
   "mimetype": "text/x-python",
   "name": "python",
   "nbconvert_exporter": "python",
   "pygments_lexer": "ipython3",
   "version": "3.9.12"
  }
 },
 "nbformat": 4,
 "nbformat_minor": 5
}

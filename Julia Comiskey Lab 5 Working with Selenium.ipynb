{
 "cells": [
  {
   "cell_type": "code",
   "execution_count": 28,
   "id": "a8070ece",
   "metadata": {},
   "outputs": [
    {
     "name": "stdout",
     "output_type": "stream",
     "text": [
      "Requirement already satisfied: selenium in c:\\users\\julia\\anaconda32\\lib\\site-packages (4.8.2)\n",
      "Requirement already satisfied: trio~=0.17 in c:\\users\\julia\\anaconda32\\lib\\site-packages (from selenium) (0.22.0)\n",
      "Requirement already satisfied: trio-websocket~=0.9 in c:\\users\\julia\\anaconda32\\lib\\site-packages (from selenium) (0.9.2)\n",
      "Requirement already satisfied: urllib3[socks]~=1.26 in c:\\users\\julia\\anaconda32\\lib\\site-packages (from selenium) (1.26.9)\n",
      "Requirement already satisfied: certifi>=2021.10.8 in c:\\users\\julia\\anaconda32\\lib\\site-packages (from selenium) (2021.10.8)\n",
      "Requirement already satisfied: outcome in c:\\users\\julia\\anaconda32\\lib\\site-packages (from trio~=0.17->selenium) (1.2.0)\n",
      "Requirement already satisfied: attrs>=19.2.0 in c:\\users\\julia\\anaconda32\\lib\\site-packages (from trio~=0.17->selenium) (21.4.0)\n",
      "Requirement already satisfied: cffi>=1.14 in c:\\users\\julia\\anaconda32\\lib\\site-packages (from trio~=0.17->selenium) (1.15.0)\n",
      "Requirement already satisfied: sortedcontainers in c:\\users\\julia\\anaconda32\\lib\\site-packages (from trio~=0.17->selenium) (2.4.0)\n",
      "Requirement already satisfied: async-generator>=1.9 in c:\\users\\julia\\anaconda32\\lib\\site-packages (from trio~=0.17->selenium) (1.10)\n",
      "Requirement already satisfied: idna in c:\\users\\julia\\anaconda32\\lib\\site-packages (from trio~=0.17->selenium) (3.3)\n",
      "Requirement already satisfied: sniffio in c:\\users\\julia\\anaconda32\\lib\\site-packages (from trio~=0.17->selenium) (1.2.0)\n",
      "Requirement already satisfied: exceptiongroup>=1.0.0rc9 in c:\\users\\julia\\anaconda32\\lib\\site-packages (from trio~=0.17->selenium) (1.1.0)\n",
      "Requirement already satisfied: pycparser in c:\\users\\julia\\anaconda32\\lib\\site-packages (from cffi>=1.14->trio~=0.17->selenium) (2.21)\n",
      "Requirement already satisfied: wsproto>=0.14 in c:\\users\\julia\\anaconda32\\lib\\site-packages (from trio-websocket~=0.9->selenium) (1.2.0)\n",
      "Requirement already satisfied: PySocks!=1.5.7,<2.0,>=1.5.6 in c:\\users\\julia\\anaconda32\\lib\\site-packages (from urllib3[socks]~=1.26->selenium) (1.7.1)\n",
      "Requirement already satisfied: h11<1,>=0.9.0 in c:\\users\\julia\\anaconda32\\lib\\site-packages (from wsproto>=0.14->trio-websocket~=0.9->selenium) (0.14.0)\n"
     ]
    }
   ],
   "source": [
    "! pip install selenium"
   ]
  },
  {
   "cell_type": "code",
   "execution_count": 34,
   "id": "34820a26",
   "metadata": {},
   "outputs": [],
   "source": [
    "import selenium\n",
    "from selenium import webdriver\n",
    "from selenium.webdriver.chrome.service import Service\n",
    "from selenium.webdriver.common.keys import Keys\n",
    "from selenium.webdriver.common.by import By\n",
    "from selenium.webdriver.support.ui import WebDriverWait\n",
    "from selenium.webdriver.support import expected_conditions as EC\n",
    "import time\n",
    "PATH =Service(\"C:\\Program Files\\chromedriver.exe\")\n",
    "driver = webdriver.Chrome(service=PATH)\n"
   ]
  },
  {
   "cell_type": "code",
   "execution_count": 30,
   "id": "e6fdd496",
   "metadata": {},
   "outputs": [],
   "source": [
    "driver.get(\"https://techwithtim.net/\") #getting the webpage we want to access"
   ]
  },
  {
   "cell_type": "code",
   "execution_count": 31,
   "id": "af4fe38e",
   "metadata": {},
   "outputs": [],
   "source": [
    "link = driver.find_element(By.LINK_TEXT,\"Python Programming\") #allows us to type the text that would show for a link\n",
    "                                                             #and access it \n",
    "link.click()\n"
   ]
  },
  {
   "cell_type": "code",
   "execution_count": 25,
   "id": "8cdd2b16",
   "metadata": {},
   "outputs": [],
   "source": [
    "try:\n",
    "    element = WebDriverWait(driver, 10).until( #wait 10 seconds so driver can find element present on page\n",
    "    EC.presence_of_element_located((By.LINK_TEXT, \"Beginner Python Tutorials\"))) #locating what we want to click\n",
    "    element.click() #clicks beginner python tutorials\n",
    "except:\n",
    "    driver.quit() #exiting"
   ]
  },
  {
   "cell_type": "code",
   "execution_count": 32,
   "id": "3291afc3",
   "metadata": {},
   "outputs": [],
   "source": [
    "try:\n",
    "    element = WebDriverWait(driver, 10).until(EC.presence_of_element_located((By.LINK_TEXT, \"Beginner Python Tutorials\")))\n",
    "    element.clear() #clear all the text that is already in the input field \n",
    "    element.click()  \n",
    "    \n",
    "    element = WebDriverWait(driver, 10).until(EC.presence_of_element_located((By.ID, \"sow-button-19310003\")))\n",
    "    element.click()\n",
    "    driver.back() #going back to previous pages\n",
    "    driver.back()\n",
    "    driver.back()\n",
    "    driver.foward()\n",
    "    driver.forward() #going to the next page\n",
    "except:\n",
    "    driver.quit()"
   ]
  },
  {
   "cell_type": "code",
   "execution_count": 85,
   "id": "ed293577",
   "metadata": {},
   "outputs": [],
   "source": [
    "import csv\n",
    "import selenium\n",
    "from selenium import webdriver\n",
    "from selenium.webdriver.chrome.service import Service\n",
    "from selenium.webdriver.common.keys import Keys\n",
    "from selenium.webdriver.common.by import By\n",
    "from selenium.webdriver.support.ui import WebDriverWait\n",
    "from selenium.webdriver.support import expected_conditions as EC\n",
    "import time\n",
    "PATH =Service(\"C:\\Program Files\\chromedriver.exe\")\n",
    "driver = webdriver.Chrome(service=PATH)\n",
    "\n",
    "\n",
    "driver.get(\"https://data.gov/\")\n",
    "\n",
    "link2=driver.find_element(By.LINK_TEXT,\"DATA\")\n",
    "link2.click()\n",
    "\n",
    "search = driver.find_element(By.CLASS_NAME,\"search\")\n",
    "search.send_keys(\"climate change\")\n",
    "search.send_keys(Keys.RETURN)\n",
    "\n",
    "\n",
    "dataset_items = driver.find_elements(By.CLASS_NAME, \"dataset-item\")\n",
    "\n",
    "with open(\"output.csv\",\"w\", newline=\"\",encoding =\"utf-8\")as csvfile:\n",
    "          writer = csv.writer(csvfile)\n",
    "          \n",
    "          writer.writerow([\"Title\",\"Description\"])\n",
    "          for item in dataset_items:\n",
    "              title_element=item.find_element(By.XPATH, \".//h3[@class='dataset-heading']/a\")\n",
    "              title= title_element.text\n",
    "          \n",
    "              description_element=item.find_element(By.XPATH, \"//div[@class='notes']/div\")\n",
    "              description = description_element.text\n",
    "          \n",
    "              writer.writerow([title, description]) \n",
    "          \n",
    "driver.quit()"
   ]
  },
  {
   "cell_type": "code",
   "execution_count": 79,
   "id": "39f01585",
   "metadata": {},
   "outputs": [
    {
     "name": "stdout",
     "output_type": "stream",
     "text": [
      "Food Price Outlook\n",
      "<selenium.webdriver.remote.webelement.WebElement (session=\"50dc6b2ef8713bb3b88292b4bb6de3a2\", element=\"094572f3-c383-45d3-bd52-3e8d102ea59f\")>\n",
      "---------------\n",
      "National Flood Hazard Layer (NFHL)\n",
      "<selenium.webdriver.remote.webelement.WebElement (session=\"50dc6b2ef8713bb3b88292b4bb6de3a2\", element=\"094572f3-c383-45d3-bd52-3e8d102ea59f\")>\n",
      "---------------\n",
      "US EPA Nonattainment Areas and Designations\n",
      "<selenium.webdriver.remote.webelement.WebElement (session=\"50dc6b2ef8713bb3b88292b4bb6de3a2\", element=\"094572f3-c383-45d3-bd52-3e8d102ea59f\")>\n",
      "---------------\n",
      "U.S. Crude Oil, Natural Gas, and Natural Gas Liquids Reserves\n",
      "<selenium.webdriver.remote.webelement.WebElement (session=\"50dc6b2ef8713bb3b88292b4bb6de3a2\", element=\"094572f3-c383-45d3-bd52-3e8d102ea59f\")>\n",
      "---------------\n",
      "U.S. Local Climatological Data (LCD)\n",
      "<selenium.webdriver.remote.webelement.WebElement (session=\"50dc6b2ef8713bb3b88292b4bb6de3a2\", element=\"094572f3-c383-45d3-bd52-3e8d102ea59f\")>\n",
      "---------------\n",
      "The EPA Automotive Trends Report: Greenhouse Gas Emissions, Fuel Economy, and Technology since 1975\n",
      "<selenium.webdriver.remote.webelement.WebElement (session=\"50dc6b2ef8713bb3b88292b4bb6de3a2\", element=\"094572f3-c383-45d3-bd52-3e8d102ea59f\")>\n",
      "---------------\n",
      "U.S. Billion-dollar Weather and Climate Disasters, 1980 - present (NCEI Accession 0209268)\n",
      "<selenium.webdriver.remote.webelement.WebElement (session=\"50dc6b2ef8713bb3b88292b4bb6de3a2\", element=\"094572f3-c383-45d3-bd52-3e8d102ea59f\")>\n",
      "---------------\n",
      "National Greenhouse Gas Emission Inventory\n",
      "<selenium.webdriver.remote.webelement.WebElement (session=\"50dc6b2ef8713bb3b88292b4bb6de3a2\", element=\"094572f3-c383-45d3-bd52-3e8d102ea59f\")>\n",
      "---------------\n",
      "NOAA Digital Coast Sea Level Rise and Coastal Flooding Impacts Viewer\n",
      "<selenium.webdriver.remote.webelement.WebElement (session=\"50dc6b2ef8713bb3b88292b4bb6de3a2\", element=\"094572f3-c383-45d3-bd52-3e8d102ea59f\")>\n",
      "---------------\n",
      "Commercial and Residential Hourly Load Profiles for all TMY3 Locations in the United States\n",
      "<selenium.webdriver.remote.webelement.WebElement (session=\"50dc6b2ef8713bb3b88292b4bb6de3a2\", element=\"094572f3-c383-45d3-bd52-3e8d102ea59f\")>\n",
      "---------------\n",
      "Clean Air Status and Trends Network (CASTNET) Download Data Module\n",
      "<selenium.webdriver.remote.webelement.WebElement (session=\"50dc6b2ef8713bb3b88292b4bb6de3a2\", element=\"094572f3-c383-45d3-bd52-3e8d102ea59f\")>\n",
      "---------------\n",
      "Report on U.S. Methane Emissions 1990-2020: Inventories, Projections, and Opportunities for Reductions: 2001 Updated emission and cost estimates\n",
      "<selenium.webdriver.remote.webelement.WebElement (session=\"50dc6b2ef8713bb3b88292b4bb6de3a2\", element=\"094572f3-c383-45d3-bd52-3e8d102ea59f\")>\n",
      "---------------\n",
      "NACP North American Forest Dynamics Project: Forest Disturbance and Regrowth Data\n",
      "<selenium.webdriver.remote.webelement.WebElement (session=\"50dc6b2ef8713bb3b88292b4bb6de3a2\", element=\"094572f3-c383-45d3-bd52-3e8d102ea59f\")>\n",
      "---------------\n",
      "Sea Level Trends: Sea Level Variations of the United States Derived from National Water Level Observation Network Stations\n",
      "<selenium.webdriver.remote.webelement.WebElement (session=\"50dc6b2ef8713bb3b88292b4bb6de3a2\", element=\"094572f3-c383-45d3-bd52-3e8d102ea59f\")>\n",
      "---------------\n",
      "Emission & Generation Resource Integrated Database (eGRID)\n",
      "<selenium.webdriver.remote.webelement.WebElement (session=\"50dc6b2ef8713bb3b88292b4bb6de3a2\", element=\"094572f3-c383-45d3-bd52-3e8d102ea59f\")>\n",
      "---------------\n",
      "USGS Water Use Data for the Nation - National Water Information System (NWIS)\n",
      "<selenium.webdriver.remote.webelement.WebElement (session=\"50dc6b2ef8713bb3b88292b4bb6de3a2\", element=\"094572f3-c383-45d3-bd52-3e8d102ea59f\")>\n",
      "---------------\n",
      "Maritime Limits and Boundaries of United States of America\n",
      "<selenium.webdriver.remote.webelement.WebElement (session=\"50dc6b2ef8713bb3b88292b4bb6de3a2\", element=\"094572f3-c383-45d3-bd52-3e8d102ea59f\")>\n",
      "---------------\n",
      "Social Vulnerability Index (SoVI) for the U.S. Coastal States based on the 2010 Census Tracts\n",
      "<selenium.webdriver.remote.webelement.WebElement (session=\"50dc6b2ef8713bb3b88292b4bb6de3a2\", element=\"094572f3-c383-45d3-bd52-3e8d102ea59f\")>\n",
      "---------------\n",
      "Climate Change Impacts on Air Quality and Human Health\n",
      "<selenium.webdriver.remote.webelement.WebElement (session=\"50dc6b2ef8713bb3b88292b4bb6de3a2\", element=\"094572f3-c383-45d3-bd52-3e8d102ea59f\")>\n",
      "---------------\n",
      "National Greenhouse Gas Emission Inventory (EV-GHG)\n",
      "<selenium.webdriver.remote.webelement.WebElement (session=\"50dc6b2ef8713bb3b88292b4bb6de3a2\", element=\"094572f3-c383-45d3-bd52-3e8d102ea59f\")>\n",
      "---------------\n"
     ]
    }
   ],
   "source": [
    "dataset_items = driver.find_elements(By.CLASS_NAME, \"dataset-item\")\n",
    "\n",
    "for item in dataset_items:\n",
    "    title_element=item.find_element(By.XPATH, \".//h3[@class='dataset-heading']/a\")\n",
    "    title= title_element.text\n",
    "    \n",
    "    description_element=item.find_element(By.XPATH, \".//div[@class='notes']/div\")\n",
    "    decription = description_element.text\n",
    " \n",
    "   \n",
    "    print(title)\n",
    "    print(description)\n",
    "    print(\"---------------\")"
   ]
  },
  {
   "cell_type": "code",
   "execution_count": 67,
   "id": "a3cb63f6",
   "metadata": {},
   "outputs": [
    {
     "name": "stdout",
     "output_type": "stream",
     "text": [
      "Food Price Outlook\n",
      "The Consumer Price Index (CPI) for food is a component of the all-items CPI. The CPI measures the average change over time in the prices paid by urban consumers for a...\n"
     ]
    }
   ],
   "source": [
    "title = driver.find_element(By.XPATH, \"//h3[@class='dataset-heading']/a\")\n",
    "description= driver.find_element(By.XPATH, \"//div[@class='notes']/div\")\n",
    "\n",
    "title1 = title.text\n",
    "descriptions = description.text\n",
    "\n",
    "print(title1)\n",
    "print(descriptions)"
   ]
  },
  {
   "cell_type": "code",
   "execution_count": null,
   "id": "bec0c549",
   "metadata": {},
   "outputs": [],
   "source": []
  }
 ],
 "metadata": {
  "kernelspec": {
   "display_name": "Python 3 (ipykernel)",
   "language": "python",
   "name": "python3"
  },
  "language_info": {
   "codemirror_mode": {
    "name": "ipython",
    "version": 3
   },
   "file_extension": ".py",
   "mimetype": "text/x-python",
   "name": "python",
   "nbconvert_exporter": "python",
   "pygments_lexer": "ipython3",
   "version": "3.9.12"
  }
 },
 "nbformat": 4,
 "nbformat_minor": 5
}

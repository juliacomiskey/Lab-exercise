{
 "cells": [
  {
   "cell_type": "code",
   "execution_count": 4,
   "id": "228dd2cd",
   "metadata": {
    "scrolled": true
   },
   "outputs": [
    {
     "ename": "NameError",
     "evalue": "name 'job_titles' is not defined",
     "output_type": "error",
     "traceback": [
      "\u001b[1;31m---------------------------------------------------------------------------\u001b[0m",
      "\u001b[1;31mNameError\u001b[0m                                 Traceback (most recent call last)",
      "Input \u001b[1;32mIn [4]\u001b[0m, in \u001b[0;36m<cell line: 21>\u001b[1;34m()\u001b[0m\n\u001b[0;32m     38\u001b[0m     \u001b[38;5;28;01mwith\u001b[39;00m \u001b[38;5;28mopen\u001b[39m(\u001b[38;5;124m'\u001b[39m\u001b[38;5;124mjob_titles.csv\u001b[39m\u001b[38;5;124m'\u001b[39m, \u001b[38;5;124m'\u001b[39m\u001b[38;5;124mw\u001b[39m\u001b[38;5;124m'\u001b[39m, newline \u001b[38;5;241m=\u001b[39m \u001b[38;5;124m\"\u001b[39m\u001b[38;5;124m\"\u001b[39m,encoding \u001b[38;5;241m=\u001b[39m\u001b[38;5;124m\"\u001b[39m\u001b[38;5;124mutf-8\u001b[39m\u001b[38;5;124m\"\u001b[39m) \u001b[38;5;28;01mas\u001b[39;00m job:\n\u001b[0;32m     39\u001b[0m         job\u001b[38;5;241m.\u001b[39mwrite(\u001b[38;5;124m'\u001b[39m\u001b[38;5;124mJob Title\u001b[39m\u001b[38;5;130;01m\\n\u001b[39;00m\u001b[38;5;124m'\u001b[39m)\n\u001b[1;32m---> 40\u001b[0m         \u001b[38;5;28;01mfor\u001b[39;00m title \u001b[38;5;129;01min\u001b[39;00m \u001b[43mjob_titles\u001b[49m:\n\u001b[0;32m     41\u001b[0m             job\u001b[38;5;241m.\u001b[39mwrite(\u001b[38;5;124mf\u001b[39m\u001b[38;5;124m'\u001b[39m\u001b[38;5;132;01m{\u001b[39;00mtitle\u001b[38;5;132;01m}\u001b[39;00m\u001b[38;5;130;01m\\n\u001b[39;00m\u001b[38;5;124m'\u001b[39m)\n\u001b[0;32m     45\u001b[0m \u001b[38;5;28;01mfinally\u001b[39;00m:\n",
      "\u001b[1;31mNameError\u001b[0m: name 'job_titles' is not defined"
     ]
    }
   ],
   "source": [
    "import pandas as pd\n",
    "from selenium import webdriver\n",
    "from selenium.webdriver.chrome.service import Service\n",
    "from selenium.webdriver.common.keys import Keys\n",
    "from selenium.webdriver.common.by import By\n",
    "from selenium.webdriver.common.action_chains import ActionChains\n",
    "from selenium.webdriver.support.ui import WebDriverWait\n",
    "from selenium.webdriver.support import expected_conditions as EC\n",
    "\n",
    "PATH =Service(\"C:\\Program Files\\chromedriver.exe\")\n",
    "driver = webdriver.Chrome(service=PATH)\n",
    "driver.get(\"https://www.binghamton-ny.gov/home\")\n",
    "\n",
    "\n",
    "govtab = driver.find_element(By.XPATH, \"//a[text()='Government']\")\n",
    "ActionChains(driver).click(govtab).perform()\n",
    "\n",
    "deptlink = driver.find_element(By.XPATH,\"//*[@id='dropdownrootitem3']/div/div/ul[1]/li/a\")\n",
    "ActionChains(driver).click(deptlink).perform()\n",
    "\n",
    "try:\n",
    "    \n",
    "    personnel_link = WebDriverWait(driver, 10).until(\n",
    "        EC.presence_of_element_located((By.XPATH, \"//*[@id='widget_4_33_127']/ul/li[16]/a\"))\n",
    "    )\n",
    "    personnel_link.click()\n",
    "\n",
    "    \n",
    "    employment_link = WebDriverWait(driver, 10).until(\n",
    "        EC.presence_of_element_located((By.XPATH, \"//*[@id='leftNav_1038_0_145']/ul/li/ul/li[14]/ul/li/a\"))\n",
    "    )\n",
    "    employment_link.click()\n",
    "    \n",
    "    table = driver.find_element(By.XPATH,'//*[@id=\"ColumnUserControl4\"]/div[2]/table')\n",
    "    \n",
    "\n",
    "    # Im having a problem putting the items into a CSV file \n",
    "    with open('job_titles.csv', 'w', newline = \"\",encoding =\"utf-8\") as job:\n",
    "        job.write('Job Title\\n')\n",
    "        for title in job_titles:\n",
    "            job.write(f'{title}\\n')\n",
    "   \n",
    "    \n",
    "\n",
    "finally:\n",
    "    \n",
    "    driver.quit()\n"
   ]
  },
  {
   "cell_type": "code",
   "execution_count": null,
   "id": "9fb2651d",
   "metadata": {},
   "outputs": [],
   "source": [
    "table = driver.find_element(By.XPATH,'//*[@id=\"content\"]/table')\n",
    "    df = pd.read_html(table.get_attribute('outerHTML'))[0]\n",
    "    job_titles = df['Job Title'].tolist()\n",
    "\n",
    "    # write job titles to CSV file\n",
    "    with open('job_titles.csv', 'w', newline = \"\",encoding =\"utf-8\") as f:\n",
    "        f.write('Job Title\\n')\n",
    "        for title in job_titles:\n",
    "            f.write(f'{title}\\n')"
   ]
  },
  {
   "cell_type": "code",
   "execution_count": null,
   "id": "78a173f9",
   "metadata": {},
   "outputs": [],
   "source": []
  }
 ],
 "metadata": {
  "kernelspec": {
   "display_name": "Python 3 (ipykernel)",
   "language": "python",
   "name": "python3"
  },
  "language_info": {
   "codemirror_mode": {
    "name": "ipython",
    "version": 3
   },
   "file_extension": ".py",
   "mimetype": "text/x-python",
   "name": "python",
   "nbconvert_exporter": "python",
   "pygments_lexer": "ipython3",
   "version": "3.9.12"
  }
 },
 "nbformat": 4,
 "nbformat_minor": 5
}

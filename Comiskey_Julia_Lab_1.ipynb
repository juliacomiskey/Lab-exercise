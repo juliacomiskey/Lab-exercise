{
 "cells": [
  {
   "cell_type": "code",
   "execution_count": 10,
   "id": "c79982bd",
   "metadata": {},
   "outputs": [
    {
     "name": "stdout",
     "output_type": "stream",
     "text": [
      "gargoyle\n"
     ]
    }
   ],
   "source": [
    "# Exercise 1\n",
    "\n",
    "def long_word(word_list):\n",
    "    \n",
    "    longest = \"\"\n",
    "    for word in word_list:\n",
    "        if len(word) >= len(longest):\n",
    "            longest = word\n",
    "    return longest\n",
    "\n",
    "words = [\"apple\",\"chestnut\",\"gargoyle\",\"pandas\",\"sheep\",\"raptor\"]\n",
    "print(long_word(words))"
   ]
  },
  {
   "cell_type": "code",
   "execution_count": 11,
   "id": "0567d86d",
   "metadata": {},
   "outputs": [
    {
     "name": "stdout",
     "output_type": "stream",
     "text": [
      "JUMELLES\n"
     ]
    }
   ],
   "source": [
    "# Exercise 2 \n",
    "def long_word(word_list):\n",
    "    \n",
    "    word_list=[word_list]\n",
    "    longest = \"\"\n",
    "    for word in word_list:\n",
    "        if len(word) >= len(longest):\n",
    "            longest = word\n",
    "    return longest\n",
    "\n",
    "\n",
    "import random\n",
    "sowpods = \"sowpods.txt\"\n",
    "\n",
    "def word_generator():\n",
    "    filename = sowpods\n",
    "    f = open(filename, \"r\", encoding=\"utf8\")\n",
    "    words=f.readlines()\n",
    "    f.close()\n",
    "    \n",
    "    return random.choice(words).strip()\n",
    "print(long_word(word_generator()))"
   ]
  },
  {
   "cell_type": "code",
   "execution_count": 9,
   "id": "e4442f69",
   "metadata": {},
   "outputs": [
    {
     "name": "stdout",
     "output_type": "stream",
     "text": [
      "2.12\n",
      "{'eggs': 5.79, 'bread': 3.36, 'goldfish': 3.75, 'ground beef': 8.41, 'coffee': 4.29, 'milk': 2.12}\n",
      "{'bread': 3.36, 'goldfish': 3.75, 'ground beef': 8.41, 'coffee': 4.29, 'milk': 2.12}\n",
      "dict_keys(['bread', 'goldfish', 'ground beef', 'coffee', 'milk'])\n"
     ]
    }
   ],
   "source": [
    "# Exercise 3\n",
    "\n",
    "price_of_goods = {\"eggs\": 5.79,\n",
    "        \"bread\": 2.36,\n",
    "        \"goldfish\" : 3.75,\n",
    "        \"ground beef\" : 8.41,\n",
    "        \"coffee\": 4.29,\n",
    "        \"milk\": 2.12}\n",
    "\n",
    "price = price_of_goods.get(\"milk\")\n",
    "print(price)\n",
    "\n",
    "price_of_goods.update({\"bread\": 3.36})\n",
    "print(price_of_goods)\n",
    "\n",
    "price_of_goods.pop(\"eggs\")\n",
    "print(price_of_goods)\n",
    "\n",
    "foods=price_of_goods.keys()\n",
    "print(foods)"
   ]
  },
  {
   "cell_type": "code",
   "execution_count": 12,
   "id": "0ede0f2b",
   "metadata": {},
   "outputs": [
    {
     "name": "stdout",
     "output_type": "stream",
     "text": [
      "You are a Senior\n",
      "You are all over the place\n",
      "J Comis @binghamton.edu\n"
     ]
    }
   ],
   "source": [
    "# Exercise 4\n",
    "\n",
    "class School_Record:\n",
    "    def __init__(self,name,lastname, school ,age): #Listing the components I want in the classes\n",
    "        self.name = name\n",
    "        self.lastname = lastname\n",
    "        self.school = school\n",
    "        self.age = age\n",
    "\n",
    "   \n",
    "    def email(self): #Want to use the info given to return the binghamton email of the person\n",
    "        print(self.name[0],self.lastname[0:5],\"@binghamton.edu\")\n",
    "    \n",
    "    def building(self): #Different buildings on campus and who goes there\n",
    "        if self.school == \"Watson\":\n",
    "            print(\"You will go to the Engineering Building\")\n",
    "        elif self.school == \"SOM\":\n",
    "            print(\"You will go to Academic A\")\n",
    "        elif self.school == \"Decker\":\n",
    "            print(\"You will go to the Nursing Building downtown\")\n",
    "        elif self.school == \"Harpur\":\n",
    "            print(\"You are all over the place\")\n",
    "        else:\n",
    "            print(\"Not enough info to determine where you should go\")\n",
    "    \n",
    "    def year(self): #A very ROUGH age estimate of what age people are and their corresponding year\n",
    "        if self.age>22:\n",
    "            print(\"You are a Senior\")\n",
    "        elif self.age <= 22 and self.age > 20:\n",
    "            print(\"You are a Junior\")\n",
    "        elif self.age <= 20 and self.age > 18:\n",
    "            print(\"You are a Sophmore\")\n",
    "        else:\n",
    "            print(\"You are a Freshman\")\n",
    "        \n",
    "            \n",
    "person1 = School_Record(\"Julia\", \"Comiskey\", \"Harpur\", 23)\n",
    "person1.year()\n",
    "person1.building()\n",
    "person1.email()\n",
    "        \n",
    " "
   ]
  },
  {
   "cell_type": "code",
   "execution_count": 1,
   "id": "272be40a",
   "metadata": {},
   "outputs": [
    {
     "name": "stdout",
     "output_type": "stream",
     "text": [
      "Hello and welcome to the classic game of hangman!\n",
      "If you do not know how to play thats is okay, just enter the word 'help', if not just press entera\n",
      "['_', '_', '_', '_', '_', '_']\n",
      "Guess a letter or word: a\n",
      "There is no a in the word, you lost a life\n",
      "You have 5 lives left\n",
      "['_', '_', '_', '_', '_', '_']\n",
      "Used letters:\n",
      "{'a'}\n",
      "Guess a letter or word: o\n",
      "There is no o in the word, you lost a life\n",
      "You have 4 lives left\n",
      "['_', '_', '_', '_', '_', '_']\n",
      "Used letters:\n",
      "{'o', 'a'}\n",
      "Guess a letter or word: u\n",
      "There is a u in the 2th position\n",
      "['_', 'u', '_', '_', '_', '_']\n",
      "Used letters:\n",
      "{'o', 'a', 'u'}\n",
      "Guess a letter or word: turtle\n",
      "You have guessed the word! The word is turtle.\n"
     ]
    }
   ],
   "source": [
    "#Exercise 5\n",
    "\n",
    "import random\n",
    "\n",
    "print(\"Hello and welcome to the classic game of hangman!\")\n",
    "intro =(input(\"If you do not know how to play thats is okay, just enter the word 'help', if not just press enter\"))\n",
    "\n",
    "if intro == \"help\":\n",
    "    print(\"To play hangman you must guess a letter that you suspect to be in the random word assigned to you\")\n",
    "    print(\"If the letter is in the word you will be one step closer to getting the word.\")\n",
    "    print(\"if the letter is not in the word you will lose a 'life' which will result in one body part of the hangman to be drawn\")\n",
    "    print(\"If you are feeling confident you can guess an entire word!\")\n",
    "    print(\"Good luck in your game of Hangman!\")\n",
    "else:\n",
    "    exit()\n",
    "\n",
    "wordbank = [\"received\",\"coughing\",\"thread\",\"capybara\",\"turtle\",\"python\",\"element\"]\n",
    "word = random.choice(wordbank)\n",
    "word2 = []\n",
    "for i in range(len(word)):\n",
    "    word2.append(word[i])\n",
    "progress = []\n",
    "for i in range(len(word)):\n",
    "    progress.append(\"_\")\n",
    "lives = 6\n",
    "used = set()\n",
    "\n",
    "            \n",
    "print(progress)\n",
    "\n",
    "while lives > 0:\n",
    "    guess = input(\"Guess a letter or word: \")\n",
    "    if len(guess) == 1:\n",
    "        for i in range(len(word)):\n",
    "            if word[i] == guess:\n",
    "                print(f\"There is a {guess} in the {i+1}th position\")\n",
    "                progress.pop(i)\n",
    "                progress.insert(i,guess)  \n",
    "                used.add(guess)\n",
    "        if word.count(guess) == 0:\n",
    "            print(f\"There is no {guess} in the word, you lost a life\")\n",
    "            lives -= 1\n",
    "            print(f\"You have {lives} lives left\")\n",
    "            used.add(guess)\n",
    "            \n",
    "            \n",
    "        print(progress) \n",
    "        print(\"Used letters:\")\n",
    "        print(used)\n",
    "    else:\n",
    "        if word == guess:\n",
    "            print(f\"You have guessed the word! The word is {word}.\")\n",
    "            break\n",
    "        else:\n",
    "            print(\"Wrong guess, try again.\")\n",
    "            lives -= 1\n",
    "            print(f\"You have {lives} lives left\")\n",
    "    if word2 == progress:\n",
    "        print(f\"You have guessed the word! The word is {word}.\")\n",
    "        break\n",
    "        \n",
    "\n",
    "    "
   ]
  },
  {
   "cell_type": "code",
   "execution_count": null,
   "id": "784ec581",
   "metadata": {},
   "outputs": [],
   "source": []
  }
 ],
 "metadata": {
  "kernelspec": {
   "display_name": "Python 3 (ipykernel)",
   "language": "python",
   "name": "python3"
  },
  "language_info": {
   "codemirror_mode": {
    "name": "ipython",
    "version": 3
   },
   "file_extension": ".py",
   "mimetype": "text/x-python",
   "name": "python",
   "nbconvert_exporter": "python",
   "pygments_lexer": "ipython3",
   "version": "3.9.12"
  }
 },
 "nbformat": 4,
 "nbformat_minor": 5
}

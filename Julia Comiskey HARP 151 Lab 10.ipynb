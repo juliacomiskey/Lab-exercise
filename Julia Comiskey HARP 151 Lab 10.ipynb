{
 "cells": [
  {
   "cell_type": "code",
   "execution_count": null,
   "id": "87f9144c",
   "metadata": {},
   "outputs": [],
   "source": [
    "#GUI 1\n",
    "\n",
    "#gives a drop down menu of people randomly chosen from the API\n",
    "#want user to be able to pick from that list and recieve a quote that corresponds to that person\n",
    "#be able to reset the menu and allow people to choose from a new list"
   ]
  },
  {
   "cell_type": "code",
   "execution_count": null,
   "id": "afbcca73",
   "metadata": {},
   "outputs": [],
   "source": [
    "import tkinter as tk\n",
    "import requests\n",
    "import random\n",
    "\n",
    "def get_authors():\n",
    "    response = requests.get('https://api.quotable.io/authors')\n",
    "    authors = [author['name'] for author in response.json()['results']]\n",
    "    return authors\n",
    "\n",
    "def get_quote_by_author(author):\n",
    "    response = requests.get(f'https://api.quotable.io/quotes?author={author}')\n",
    "    quotes = response.json()['results']\n",
    "    if len(quotes) == 0:\n",
    "        return \"No quotes found for this author.\"\n",
    "    quote = random.choice(quotes)['content']\n",
    "    return quote\n",
    "\n",
    "def show_quote():\n",
    "    author = var.get()\n",
    "    quote = get_quote_by_author(author)\n",
    "    text.delete('1.0', tk.END)\n",
    "    text.insert(tk.END, f'{author}: {quote}')\n",
    "\n",
    "root = tk.Tk()\n",
    "\n",
    "\n",
    "authors = get_authors()\n",
    "var = tk.StringVar(value=authors[0])\n",
    "dropdown = tk.OptionMenu(root, var, *authors)\n",
    "\n",
    "\n",
    "text = tk.Text(root, width=40, height=20)\n",
    "\n",
    "\n",
    "button = tk.Button(root, text=\"Show Quote\", command=show_quote)\n",
    "\n",
    "\n",
    "dropdown.pack()\n",
    "text.pack()\n",
    "button.pack()\n",
    "\n",
    "root.mainloop()\n"
   ]
  },
  {
   "cell_type": "code",
   "execution_count": null,
   "id": "ba2fda78",
   "metadata": {},
   "outputs": [],
   "source": [
    "#GUI 2\n",
    "\n",
    "#build a GUI that displays the 7 day forecast. model off\n",
    "#of the weather forecaster you typically use\n",
    "#try using one widget we havent used in class- identify it with a comment"
   ]
  },
  {
   "cell_type": "code",
   "execution_count": null,
   "id": "fcf98ecd",
   "metadata": {},
   "outputs": [],
   "source": [
    "lat = \"42.098701\"\n",
    "lon = \"-75.912537\"\n",
    "\n",
    "genius =  requests.get(f\"https://api.weather.gov/points/{lat},{lon}\")"
   ]
  },
  {
   "cell_type": "code",
   "execution_count": 16,
   "id": "cf03d629",
   "metadata": {},
   "outputs": [],
   "source": [
    "import tkinter as tk\n",
    "from tkinter import ttk\n",
    "import requests\n",
    "import json\n",
    "\n",
    "lat = \"42.098701\"\n",
    "lon = \"-75.912537\"\n",
    "url = f\"https://api.weather.gov/points/{lat},{lon}\"\n",
    "\n",
    "def get_forecast_url():\n",
    "    response = requests.get(url)\n",
    "    data = response.json()\n",
    "    return data['properties']['forecast']\n",
    "\n",
    "def get_forecast():\n",
    "    forecast_url = get_forecast_url()\n",
    "    response = requests.get(forecast_url)\n",
    "    data = response.json()\n",
    "    periods = data['properties']['periods']\n",
    "    return periods[:7]\n",
    "\n",
    "def show_forecast():\n",
    "    forecast = get_forecast()\n",
    "    for i, period in enumerate(forecast):\n",
    "        tree.insert('', 'end', text=period['name'], values=(f\"{period['temperature']} °F\", period['detailedForecast']))\n",
    "\n",
    "root = tk.Tk()\n",
    "\n",
    "title_label = tk.Label(root, text=\"7-Day Forecast\", font=('Times New Roman', 16, 'bold'))\n",
    "title_label.pack(pady=10)\n",
    "\n",
    "forecast_button = tk.Button(root, text=\"Show Forecast\", font=('Arial', 14), command=show_forecast)\n",
    "forecast_button.pack(pady=10)\n",
    "\n",
    "tree = ttk.Treeview(root, columns=('Temperature', 'Description'), show='headings')#Treeview widget is use to display the data\n",
    "                                                                                 # in a hierarchical structure\n",
    "tree.heading('Temperature', text='Temperature')\n",
    "tree.heading('Description', text='Description')\n",
    "tree.pack()\n",
    "\n",
    "root.mainloop()\n"
   ]
  },
  {
   "cell_type": "code",
   "execution_count": null,
   "id": "96ee9c0f",
   "metadata": {},
   "outputs": [],
   "source": []
  }
 ],
 "metadata": {
  "kernelspec": {
   "display_name": "Python 3 (ipykernel)",
   "language": "python",
   "name": "python3"
  },
  "language_info": {
   "codemirror_mode": {
    "name": "ipython",
    "version": 3
   },
   "file_extension": ".py",
   "mimetype": "text/x-python",
   "name": "python",
   "nbconvert_exporter": "python",
   "pygments_lexer": "ipython3",
   "version": "3.9.12"
  }
 },
 "nbformat": 4,
 "nbformat_minor": 5
}
